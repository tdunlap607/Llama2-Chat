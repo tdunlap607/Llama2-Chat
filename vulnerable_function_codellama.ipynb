{
 "cells": [
  {
   "cell_type": "markdown",
   "metadata": {},
   "source": [
    "# Identify a vulnerable function based on a git diff"
   ]
  },
  {
   "cell_type": "code",
   "execution_count": 1,
   "metadata": {},
   "outputs": [],
   "source": [
    "import time\n",
    "import numpy as np\n",
    "import pandas as pd\n",
    "from tqdm import tqdm\n",
    "from pathlib import Path\n",
    "import torch\n",
    "from torch import nn\n",
    "from transformers import LlamaTokenizer, AutoModelForCausalLM, pipeline, BitsAndBytesConfig, LlamaForCausalLM, AutoTokenizer\n",
    "from types import SimpleNamespace\n",
    "from patchparser import github_parser\n",
    "import requests"
   ]
  },
  {
   "cell_type": "code",
   "execution_count": 2,
   "metadata": {},
   "outputs": [],
   "source": [
    "## pull the git-diff\n",
    "## Target: https://pkg.go.dev/vuln/GO-2023-1882\n",
    "## VFC: https://github.com/cometbft/cometbft/commit/f6ea09171a2bf9f695f59b65f5c51e4a8c168015\n",
    "# parsed = github_parser.commit(repo_owner=\"cometbft\",\n",
    "#                                   repo_name=\"cometbft\",\n",
    "#                                   sha=\"f6ea09171a2bf9f695f59b65f5c51e4a8c168015\")\n",
    "\n",
    "# parsed = pd.DataFrame(parsed) \n",
    "\n",
    "# vuln_desc = \"An internal modification to the way PeerState is serialized to JSON introduced a deadlock when the new function MarshalJSON is called. This function can be called in two ways. The first is via logs, by setting the consensus logging module to debug level (which should not happen in production), and setting the log output format to JSON. The second is via RPC dump_consensus_state. For detailed information about this vulnerability, visit https://github.com/cometbft/cometbft/security/advisories/GHSA-mvj3-qrqh-cjvr.\""
   ]
  },
  {
   "cell_type": "code",
   "execution_count": 3,
   "metadata": {},
   "outputs": [],
   "source": [
    "## pull the git-diff\n",
    "## Target: https://pkg.go.dev/vuln/GO-2023-1882\n",
    "## VFC: https://github.com/cometbft/cometbft/commit/f6ea09171a2bf9f695f59b65f5c51e4a8c168015\n",
    "# parsed = github_parser.commit(repo_owner=\"bnb-chain\",\n",
    "#                                   repo_name=\"tss-lib\",\n",
    "#                                   sha=\"bb6fb30bd3ebd35c755109836aa1a5ee6126c8a0\")\n",
    "\n",
    "# parsed = pd.DataFrame(parsed) \n",
    "\n",
    "# vuln_desc = \"Collision of hash values in github.com/bnb-chain/tss-lib.\""
   ]
  },
  {
   "cell_type": "code",
   "execution_count": 4,
   "metadata": {},
   "outputs": [],
   "source": [
    "## pull the git-diff\n",
    "## Target: https://pkg.go.dev/vuln/GO-2023-1859\n",
    "## VFC: https://github.com/lestrrat-go/jwx/commit/6c41e3822485fc7e11dd70b4b0524b075d66b103\n",
    "# parsed = github_parser.commit(repo_owner=\"lestrrat-go\",\n",
    "#                                   repo_name=\"jwx\",\n",
    "#                                   sha=\"6c41e3822485fc7e11dd70b4b0524b075d66b103\")\n",
    "\n",
    "# parsed = pd.DataFrame(parsed) \n",
    "\n",
    "# vuln_desc = \"Collision of hash values in github.com/bnb-chain/tss-lib.\""
   ]
  },
  {
   "cell_type": "code",
   "execution_count": 5,
   "metadata": {},
   "outputs": [],
   "source": [
    "## pull the git-diff\n",
    "## Target: https://github.com/golang/vulndb/blob/14d0da162b75a829b2a37bc5cde76b5bc8bf501d/data/reports/GO-2021-0228.yaml#L4\n",
    "## VFC: https://github.com/unknwon/cae/commit/07971c00a1bfd9dc171c3ad0bfab5b67c2287e11\n",
    "# parsed = github_parser.commit(repo_owner=\"unknwon\",\n",
    "#                                   repo_name=\"cae\",\n",
    "#                                   sha=\"07971c00a1bfd9dc171c3ad0bfab5b67c2287e11\")\n",
    "\n",
    "# parsed = pd.DataFrame(parsed) \n",
    "\n",
    "# vuln_desc = \"Path traversal in github.com/unknwon/cae. The ExtractTo function doesn't securely escape file paths in zip archives which include leading or non-leading.\""
   ]
  },
  {
   "cell_type": "code",
   "execution_count": 6,
   "metadata": {},
   "outputs": [],
   "source": [
    "## pull the git-diff\n",
    "## Target: https://github.com/golang/vulndb/blob/master/data/reports/GO-2021-0090.yaml\n",
    "## VFC: https://github.com/tendermint/tendermint/commit/480b995a31727593f58b361af979054d17d84340\n",
    "parsed = github_parser.commit(repo_owner=\"tendermint\",\n",
    "                                  repo_name=\"tendermint\",\n",
    "                                  sha=\"480b995a31727593f58b361af979054d17d84340\")\n",
    "\n",
    "parsed = pd.DataFrame(parsed) \n",
    "\n",
    "vuln_desc = \"Proposed commits may contain signatures for blocks not contained within the commit. Instead of skipping these signatures, they cause failure during verification. A malicious proposer can use this to force consensus failures.\""
   ]
  },
  {
   "cell_type": "code",
   "execution_count": 7,
   "metadata": {},
   "outputs": [],
   "source": [
    "parsed = parsed[~parsed['file_name'].str.contains(\"test\")]\n",
    "git_diff = '\\n'.join(parsed.drop_duplicates('raw_file_patch')['raw_file_patch'].values.tolist())"
   ]
  },
  {
   "cell_type": "code",
   "execution_count": 8,
   "metadata": {},
   "outputs": [],
   "source": [
    "# load the context and template\n",
    "context = git_diff\n",
    "template = open(\"./templates/vulnerable_function_template.txt\",'r').read()\n",
    "\n",
    "# generate a prompt based on the template and context\n",
    "prompt = template.replace('[CONTEXT]', context)\n",
    "prompt = prompt.replace('[VULN_DESCRIPTION]', vuln_desc)"
   ]
  },
  {
   "cell_type": "code",
   "execution_count": 9,
   "metadata": {},
   "outputs": [
    {
     "name": "stdout",
     "output_type": "stream",
     "text": [
      "<s>[INST] <<SYS>>\n",
      "You are an vulnerable function identifying assistant. Given the user provided context, the git-diff, please identify the vulnerable functions. The git-diff was known to fix the following vulnerability:\n",
      "\n",
      "Proposed commits may contain signatures for blocks not contained within the commit. Instead of skipping these signatures, they cause failure during verification. A malicious proposer can use this to force consensus failures.\n",
      "\n",
      "Do not give an explanation of the fix! Only provide vulnerable functions from the git-diff. You must only respond with the vulnerable functions as the fully qualified function names in a list [struct.Function, struct.Function].\n",
      "<</SYS>>\n",
      "\n",
      "@@ -549,9 +549,11 @@ func (voteSet *VoteSet) sumTotalFrac() (int64, int64, float64) {\n",
      " //--------------------------------------------------------------------------------\n",
      " // Commit\n",
      " \n",
      "-// MakeCommit constructs a Commit from the VoteSet.\n",
      "-// Panics if the vote type is not PrecommitType or if\n",
      "-// there's no +2/3 votes for a single block.\n",
      "+// MakeCommit constructs a Commit from the VoteSet. It only includes precommits\n",
      "+// for the block, which has 2/3+ majority, and nil.\n",
      "+//\n",
      "+// Panics if the vote type is not PrecommitType or if there's no +2/3 votes for\n",
      "+// a single block.\n",
      " func (voteSet *VoteSet) MakeCommit() *Commit {\n",
      " \tif voteSet.signedMsgType != tmproto.PrecommitType {\n",
      " \t\tpanic(\"Cannot MakeCommit() unless VoteSet.Type is PrecommitType\")\n",
      "@@ -567,7 +569,12 @@ func (voteSet *VoteSet) MakeCommit() *Commit {\n",
      " \t// For every validator, get the precommit\n",
      " \tcommitSigs := make([]CommitSig, len(voteSet.votes))\n",
      " \tfor i, v := range voteSet.votes {\n",
      "-\t\tcommitSigs[i] = v.CommitSig()\n",
      "+\t\tcommitSig := v.CommitSig()\n",
      "+\t\t// if block ID exists but doesn't match, exclude sig\n",
      "+\t\tif commitSig.ForBlock() && !v.BlockID.Equals(*voteSet.maj23) {\n",
      "+\t\t\tcommitSig = NewCommitSigAbsent()\n",
      "+\t\t}\n",
      "+\t\tcommitSigs[i] = commitSig\n",
      " \t}\n",
      " \n",
      " \treturn NewCommit(voteSet.GetHeight(), voteSet.GetRound(), *voteSet.maj23, commitSigs) [/INST]\n"
     ]
    }
   ],
   "source": [
    "print(prompt)"
   ]
  },
  {
   "cell_type": "code",
   "execution_count": 10,
   "metadata": {},
   "outputs": [
    {
     "data": {
      "application/vnd.jupyter.widget-view+json": {
       "model_id": "7cccd0306b374291b7c3407a9f371431",
       "version_major": 2,
       "version_minor": 0
      },
      "text/plain": [
       "Loading checkpoint shards:   0%|          | 0/2 [00:00<?, ?it/s]"
      ]
     },
     "metadata": {},
     "output_type": "display_data"
    }
   ],
   "source": [
    "# load the tokenizer and model\n",
    "tokenizer = AutoTokenizer.from_pretrained(\"./../../Models/CodeLlama-7b-Instruct-hf\")\n",
    "\n",
    "model = AutoModelForCausalLM.from_pretrained(\"./../../Models/CodeLlama-7b-Instruct-hf\",\n",
    "                                            # load_in_4bit=True,\n",
    "                                            device_map='cuda:0',\n",
    "                                            # torch_dtype=torch.float32,\n",
    "                                            torch_dtype=torch.float16,\n",
    "                                            )\n"
   ]
  },
  {
   "cell_type": "code",
   "execution_count": 11,
   "metadata": {},
   "outputs": [
    {
     "name": "stderr",
     "output_type": "stream",
     "text": [
      "Setting `pad_token_id` to `eos_token_id`:2 for open-end generation.\n",
      "Both `max_new_tokens` (=300) and `max_length`(=5000) seem to have been set. `max_new_tokens` will take precedence. Please refer to the documentation for more information. (https://huggingface.co/docs/transformers/main/en/main_classes/text_generation)\n"
     ]
    },
    {
     "name": "stdout",
     "output_type": "stream",
     "text": [
      "TOKENIZER TIME: 0.00 seconds\n"
     ]
    }
   ],
   "source": [
    "\n",
    "# tokenize the prompt\n",
    "tok_time = time.time()\n",
    "batch = tokenizer(prompt, return_tensors=\"pt\")\n",
    "print(f\"TOKENIZER TIME: {(time.time() - tok_time):.2f} seconds\")\n",
    "\n",
    "# generate the response\n",
    "# Temperature settings: \n",
    "# https://github.com/facebookresearch/llama/blob/main/example_chat_completion.py#L11\n",
    "\n",
    "model_time = time.time()\n",
    "response = model.generate(batch[\"input_ids\"].cuda(),\n",
    "                          attention_mask = batch[\"attention_mask\"].cuda(),\n",
    "                            do_sample=True,\n",
    "                            top_k=50,\n",
    "                            max_length=5000,\n",
    "                            max_new_tokens=300,\n",
    "                            top_p=0.9,\n",
    "                            temperature=0.1)[0]\n",
    "\n",
    "# the response needs to be decoded\n",
    "decode_response = tokenizer.decode(response)"
   ]
  },
  {
   "cell_type": "code",
   "execution_count": 12,
   "metadata": {},
   "outputs": [
    {
     "name": "stdout",
     "output_type": "stream",
     "text": [
      "]  The following functions are vulnerable to the attack:\n",
      "\n",
      "* `func (voteSet *VoteSet) MakeCommit() *Commit`\n",
      "\n",
      "This function constructs a `Commit` from the `VoteSet`, but it does not properly filter out precommits for blocks that do not have a 2/3 majority. This means that a malicious proposer could include precommits for blocks that do not have a 2/3 majority, which could cause the consensus algorithm to fail.</s>\n"
     ]
    }
   ],
   "source": [
    "print(decode_response.split(\"/INST\")[1])"
   ]
  }
 ],
 "metadata": {
  "kernelspec": {
   "display_name": ".venv",
   "language": "python",
   "name": "python3"
  },
  "language_info": {
   "codemirror_mode": {
    "name": "ipython",
    "version": 3
   },
   "file_extension": ".py",
   "mimetype": "text/x-python",
   "name": "python",
   "nbconvert_exporter": "python",
   "pygments_lexer": "ipython3",
   "version": "3.10.12"
  },
  "orig_nbformat": 4
 },
 "nbformat": 4,
 "nbformat_minor": 2
}
